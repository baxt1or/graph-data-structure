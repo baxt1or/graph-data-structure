{
 "cells": [
  {
   "cell_type": "code",
   "execution_count": 1,
   "id": "8f4b29af",
   "metadata": {},
   "outputs": [],
   "source": [
    "import pandas as pd\n",
    "from typing import List, Optional"
   ]
  },
  {
   "cell_type": "code",
   "execution_count": 4,
   "id": "2c54082d",
   "metadata": {},
   "outputs": [],
   "source": [
    "class TreeNode:\n",
    "    def __init__(self, val=0, left=None, right=None):\n",
    "        self.val = val\n",
    "        self.left = left\n",
    "        self.right = right\n",
    "\n",
    "        \n",
    "a = TreeNode(3)\n",
    "b = TreeNode(9)\n",
    "c = TreeNode(20)\n",
    "\n",
    "a.left = b \n",
    "a.right = c\n",
    "\n",
    "\n",
    "d = TreeNode(15)\n",
    "f = TreeNode(7)\n",
    "\n",
    "c.left = d \n",
    "c.right = f "
   ]
  },
  {
   "cell_type": "code",
   "execution_count": 17,
   "id": "766703f1",
   "metadata": {},
   "outputs": [
    {
     "name": "stdout",
     "output_type": "stream",
     "text": [
      "[[3], [9, 20], [15, 7]]\n"
     ]
    }
   ],
   "source": [
    "class TreeNode:\n",
    "    def __init__(self, val=0, left=None, right=None):\n",
    "        self.val = val\n",
    "        self.left = left\n",
    "        self.right = right\n",
    "\n",
    "class Solution:\n",
    "    def levelOrder(self, root: Optional[TreeNode]) -> List[List[int]]:\n",
    "\n",
    "        if not root:\n",
    "            return []\n",
    "\n",
    "        queue  = [root]\n",
    "\n",
    "        res = [[root.val]]\n",
    "\n",
    "        while queue:\n",
    "            node = queue.pop(0)\n",
    "            \n",
    "            if node.left and node.right:\n",
    "                res.append([node.left.val, node.right.val])\n",
    "                        \n",
    "            if node.right:\n",
    "                queue.append(node.right)\n",
    "            \n",
    "            if node.left:\n",
    "                queue.append(node.left)\n",
    "        \n",
    "        return res\n",
    "    \n",
    "\n",
    "print(Solution().levelOrder(a))"
   ]
  },
  {
   "cell_type": "code",
   "execution_count": 22,
   "id": "02eb4389",
   "metadata": {},
   "outputs": [
    {
     "name": "stdout",
     "output_type": "stream",
     "text": [
      "5\n"
     ]
    }
   ],
   "source": [
    "class TreeNode:\n",
    "    def __init__(self, val=0, left=None, right=None):\n",
    "        self.val = val\n",
    "        self.left = left\n",
    "        self.right = right\n",
    "class Solution:\n",
    "    def minDepth(self, root: Optional[TreeNode]) -> int:\n",
    "\n",
    "        if not root:\n",
    "            return 0\n",
    "        \n",
    "        stack = [(root, 1)]\n",
    "        res = []\n",
    "\n",
    "        while stack:\n",
    "            node, current_depth = stack.pop()\n",
    "\n",
    "            res.append(current_depth)\n",
    "\n",
    "            if node.left:\n",
    "                stack.append((node.left, current_depth + 1))\n",
    "            \n",
    "            if node.right:\n",
    "                stack.append((node.right, current_depth + 1))\n",
    "        \n",
    "        return res[-1]\n",
    "    \n",
    "\n",
    "a = TreeNode(2)\n",
    "b = TreeNode(3)\n",
    "c = TreeNode(4)\n",
    "d = TreeNode(5)\n",
    "e = TreeNode(6)\n",
    "\n",
    "a.right = b \n",
    "b.right = c \n",
    "c.right = d \n",
    "d.right = e\n",
    "print(Solution().minDepth(a))"
   ]
  },
  {
   "cell_type": "code",
   "execution_count": 76,
   "id": "2a66810e",
   "metadata": {},
   "outputs": [
    {
     "name": "stdout",
     "output_type": "stream",
     "text": [
      "1\n",
      "2\n",
      "3\n",
      "5\n",
      "1\n",
      "2\n",
      "3\n",
      "5\n",
      "1\n",
      "2\n",
      "3\n",
      "5\n",
      "1\n",
      "2\n",
      "3\n",
      "5\n",
      "1\n",
      "2\n",
      "3\n",
      "5\n"
     ]
    }
   ],
   "source": [
    "class Node:\n",
    "    def __init__(self, val):\n",
    "        self.val = val \n",
    "        self.right = None\n",
    "\n",
    "\n",
    "def print_linked_list(root : Node):\n",
    "\n",
    "   \n",
    "\n",
    "    for n in [6, 7, 8, 9, 0]:\n",
    "\n",
    "        stack = [root]\n",
    "        \n",
    "        while stack:\n",
    "            current = stack.pop()\n",
    "            print(current.val)\n",
    "\n",
    "            if current.right:\n",
    "            #    current.right = TreeNode(n)\n",
    "               stack.append(current.right)\n",
    "               \n",
    "\n",
    "\n",
    "def append(curr:Node, data):\n",
    "    new_data = Node(data)\n",
    "    \n",
    "    while curr.right:\n",
    "        curr = curr.right    \n",
    "    curr.right = new_data\n",
    "\n",
    "a = Node(1)\n",
    "b = Node(2)\n",
    "c = Node(3)\n",
    "a.right = b \n",
    "b.right = c \n",
    "\n",
    "append(a, 5)\n",
    "\n",
    "print_linked_list(a)"
   ]
  },
  {
   "cell_type": "code",
   "execution_count": 72,
   "id": "6c68c6af",
   "metadata": {},
   "outputs": [
    {
     "name": "stdout",
     "output_type": "stream",
     "text": [
      "1\n",
      "2\n",
      "3\n",
      "4\n",
      "5\n",
      "6\n"
     ]
    },
    {
     "data": {
      "text/plain": [
       "[1, 5, 6, 1, 2, 3, 4, 5, 6]"
      ]
     },
     "execution_count": 72,
     "metadata": {},
     "output_type": "execute_result"
    }
   ],
   "source": [
    "class TreeNode:\n",
    "    def __init__(self, val=0, left=None, right=None):\n",
    "        self.val = val\n",
    "        self.left = left\n",
    "        self.right = right\n",
    "\n",
    "\n",
    "class Solution:\n",
    "    def flatten(self, root: Optional[TreeNode]) -> None:\n",
    "        \"\"\"\n",
    "        Do not return anything, modify root in-place instead.\n",
    "        \"\"\"\n",
    "\n",
    "        stack = [root]\n",
    "\n",
    "        res = []\n",
    "\n",
    "        while stack:\n",
    "            current = stack.pop()\n",
    "            res.append(current.val)\n",
    "            print(current.val)\n",
    "            if current.right:\n",
    "                stack.append(current.right)\n",
    "            \n",
    "            if current.left:\n",
    "                stack.append(current.left)\n",
    "        \n",
    "        # root = TreeNode(root.val)\n",
    "\n",
    "        for n in res:\n",
    "            new_data = TreeNode(n)\n",
    "\n",
    "            while root.right:\n",
    "                root = root.right\n",
    "            \n",
    "            root.right = new_data\n",
    "\n",
    "        \n",
    "a = TreeNode(1)\n",
    "b = TreeNode(2)\n",
    "c = TreeNode(5)\n",
    "\n",
    "a.left = b \n",
    "a.right = c\n",
    "\n",
    "d = TreeNode(3)\n",
    "e = TreeNode(4)\n",
    "\n",
    "f = TreeNode(6)\n",
    "b.left = d \n",
    "b.right = e \n",
    "\n",
    "c.right = f\n",
    "Solution().flatten(a)\n",
    "print_linked_list(a)"
   ]
  },
  {
   "cell_type": "code",
   "execution_count": null,
   "id": "1aea9711",
   "metadata": {},
   "outputs": [],
   "source": []
  },
  {
   "cell_type": "code",
   "execution_count": null,
   "id": "6d3537ae",
   "metadata": {},
   "outputs": [],
   "source": []
  }
 ],
 "metadata": {
  "kernelspec": {
   "display_name": "Python 3",
   "language": "python",
   "name": "python3"
  },
  "language_info": {
   "codemirror_mode": {
    "name": "ipython",
    "version": 3
   },
   "file_extension": ".py",
   "mimetype": "text/x-python",
   "name": "python",
   "nbconvert_exporter": "python",
   "pygments_lexer": "ipython3",
   "version": "3.9.6"
  }
 },
 "nbformat": 4,
 "nbformat_minor": 5
}
